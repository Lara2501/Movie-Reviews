{
 "cells": [
  {
   "cell_type": "code",
   "execution_count": 1,
   "metadata": {},
   "outputs": [
    {
     "name": "stdout",
     "output_type": "stream",
     "text": [
      "10664\n",
      "('pos', (1.0, ['pos', 'pos', 'pos', 'pos', 'pos']))\n",
      "('neg', (1.0, ['neg', 'neg', 'neg', 'neg', 'neg']))\n"
     ]
    }
   ],
   "source": [
    "import sentiment_mod as s\n",
    "print(s.sentiment(\"This movie was awesome! The acting was great, plot was wonderful, and there were pythons...so yea!\"))\n",
    "print(s.sentiment(\"This movie was utter junk. There were absolutely 0 pythons. I don't see what the point was at all. Horrible movie, 0/10\"))"
   ]
  },
  {
   "cell_type": "code",
   "execution_count": 7,
   "metadata": {},
   "outputs": [
    {
     "name": "stdout",
     "output_type": "stream",
     "text": [
      "('pos', (0.8, ['pos', 'pos', 'neg', 'pos', 'pos']))\n",
      "('pos', (1.0, ['pos', 'pos', 'pos', 'pos', 'pos']))\n",
      "('pos', (1.0, ['pos', 'pos', 'pos', 'pos', 'pos']))\n"
     ]
    }
   ],
   "source": [
    "print(s.sentiment('No matter how many witnesses you give the Democrats, no matter how much information is given, like the quickly produced Transcripts, it will NEVER be enough for them. They will always scream UNFAIR. The Impeachment Hoax is just another political CON JOB!'))\n",
    "print(s.sentiment('In a matter of hours, the President\\'s legal team blew apart months of lies from Chairman Adam Schiff. It\\'s time to move on and get back to the people\\'s business.'))\n",
    "print(s.sentiment('If you want your children to inherit the blessings that generations of Americans have fought and died to secure—then we must devote everything we have toward victory in 2020. Only this way, can we save the America we love – and drain the Washington Swamp once and for all!'))"
   ]
  }
 ],
 "metadata": {
  "kernelspec": {
   "display_name": "Python 3",
   "language": "python",
   "name": "python3"
  },
  "language_info": {
   "codemirror_mode": {
    "name": "ipython",
    "version": 3
   },
   "file_extension": ".py",
   "mimetype": "text/x-python",
   "name": "python",
   "nbconvert_exporter": "python",
   "pygments_lexer": "ipython3",
   "version": "3.7.0"
  }
 },
 "nbformat": 4,
 "nbformat_minor": 2
}
